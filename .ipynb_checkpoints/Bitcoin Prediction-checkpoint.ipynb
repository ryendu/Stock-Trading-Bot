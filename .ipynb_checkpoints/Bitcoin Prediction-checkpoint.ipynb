{
 "cells": [
  {
   "cell_type": "code",
   "execution_count": 1,
   "metadata": {
    "colab": {
     "base_uri": "https://localhost:8080/"
    },
    "executionInfo": {
     "elapsed": 23894,
     "status": "ok",
     "timestamp": 1610825205123,
     "user": {
      "displayName": "Ryan Du",
      "photoUrl": "https://lh3.googleusercontent.com/a-/AOh14GipHEixBZgsPSLSGZvxAQY-4_WHIQtSOOuNiVpoIQ=s64",
      "userId": "11878460270753441728"
     },
     "user_tz": 300
    },
    "id": "O3LOHPnxGZ0W",
    "outputId": "8aca8eac-817a-4891-e4b8-dbd48d8eb773"
   },
   "outputs": [],
   "source": [
    "import tensorflow as tf\n",
    "import numpy as np\n",
    "from tensorflow import keras\n",
    "from matplotlib import pyplot as plt\n",
    "import pandas as pd\n",
    "from sklearn.model_selection import train_test_split"
   ]
  },
  {
   "cell_type": "code",
   "execution_count": 2,
   "metadata": {
    "executionInfo": {
     "elapsed": 391,
     "status": "ok",
     "timestamp": 1610825422178,
     "user": {
      "displayName": "Ryan Du",
      "photoUrl": "https://lh3.googleusercontent.com/a-/AOh14GipHEixBZgsPSLSGZvxAQY-4_WHIQtSOOuNiVpoIQ=s64",
      "userId": "11878460270753441728"
     },
     "user_tz": 300
    },
    "id": "yE_ZR0KX45_x"
   },
   "outputs": [],
   "source": [
    "def train(model,epochs=1000,plot_every_=10):\n",
    "    cb=PlotCB(plot_every_)\n",
    "    model.fit(x_train,y_train,epochs=epochs,batch_size=32, shuffle=True, validation_split=0.1,callbacks=[cb])\n",
    "    \n",
    "class PlotCB(keras.callbacks.Callback):\n",
    "    def __init__(self,plot_every):\n",
    "        self.plot_every = plot_every\n",
    "    def on_epoch_end(self, epoch, logs={}):\n",
    "        if epoch % self.plot_every == 0:\n",
    "            forecast_and_plot_val()\n",
    "            \n",
    "\n",
    "def get_dataset_with_multi_tickers(tickers=['gogl','aple'],data_root_path=\"/Users/ryandu_1/Desktop/MachineLearning/Stocks/Huge Stock Market Dataset/Stocks/\"):\n",
    "    \"\"\"takes tickers, and root path as arguments. Uses teh preprocess_dataframe function to get a dataset for each ticker, then concatenates them to one big dataset returns x,y\"\"\"\n",
    "    xs=[]\n",
    "    ys=[]\n",
    "    for ticker in tickers:\n",
    "        data = pd.read_csv(data_root_path+ticker+'.us.txt')\n",
    "        x_,y_ = preprocess_dataframe(data)\n",
    "        xs.append(x_)\n",
    "        ys.append(y_)\n",
    "    xs=tuple(xs)\n",
    "    ys=tuple(ys)\n",
    "    x=np.concatenate(xs)\n",
    "    y=np.concatenate(ys)\n",
    "    return x,y\n",
    "def preprocess_dataframe(data, date_column='Date', target_column='Close'):\n",
    "    \"\"\"\"Takes the csv file, the column containing the date, and the target column. uses a min max scalar to scale the data, preprocesses the data, returns x,y\"\"\"\n",
    "    # to explicitly convert the date column to type DATETIME\n",
    "    # In the CSV File, there must be a Column named Data which must contain the Date Information\n",
    "    # THe user must speciy the Target column name also \n",
    "    data = data.set_index(date_column)\n",
    "    data = data.pop(target_column)\n",
    "    data = np.array(data.to_numpy()).reshape(-1,1)\n",
    "    from sklearn.preprocessing import MinMaxScaler\n",
    "    sc = MinMaxScaler(feature_range=(0,1))\n",
    "    data = sc.fit_transform(data)\n",
    "    dataset = tf.data.Dataset.from_tensor_slices((data))\n",
    "    dataset = dataset.window(100, shift=1,drop_remainder=True)\n",
    "    dataset = dataset.flat_map(lambda window: window.batch(100))\n",
    "    dataset = dataset.map(lambda window: (window[:-1], window[-1:]))\n",
    "    x=[]\n",
    "    y=[]\n",
    "    for x_,y_ in dataset: \n",
    "        x.append(x_.numpy())\n",
    "        y.append(y_.numpy())\n",
    "    x = np.array(x)\n",
    "    y = np.array(y).reshape(-1,)\n",
    "    return x,y\n",
    "\n",
    "def forecast(starting_99, leng,model):\n",
    "    \"\"\"give as input a 1D array of values containing atleast 99 values. THe model will take the last 99 as input and predict until gotten to length \"\"\"\n",
    "    yy = starting_99.reshape(-1)\n",
    "    for i in range(leng):\n",
    "        tmp_pred = model.predict((np.array([yy[-99:]]).reshape(1,99,1)))\n",
    "        yy = np.append(yy,tmp_pred)\n",
    "    return yy[99:]\n",
    "\n",
    "def calculate_accuracy(real, predict):\n",
    "    real = np.array(real) + 1\n",
    "    predict = np.array(predict) + 1\n",
    "    percentage = 1 - np.sqrt(np.mean(np.square((real - predict) / real)))\n",
    "    return percentage * 100\n",
    "\n",
    "def plot_pred(pred, real):\n",
    "    import matplotlib.pyplot as plt\n",
    "    plt.plot(real.reshape(-1))\n",
    "    plt.plot(pred)\n",
    "    plt.ylabel('price')\n",
    "    plt.xlabel('time')\n",
    "    plt.show()\n",
    "    \n",
    "def forecast_and_plot_val():\n",
    "    yy = forecast(x_test[0],len(y_test),model)\n",
    "    calculate_accuracy(y_test,yy)\n",
    "    plot_pred(yy, y_test)\n",
    "    \n",
    "def forecast_and_plot_train():\n",
    "    yy = forecast(x_train[0],len(y_train),model)\n",
    "    calculate_accuracy(y_train,yy)\n",
    "    plot_pred(yy, y_train)\n",
    "    "
   ]
  },
  {
   "cell_type": "code",
   "execution_count": 32,
   "metadata": {
    "executionInfo": {
     "elapsed": 937,
     "status": "ok",
     "timestamp": 1610825209003,
     "user": {
      "displayName": "Ryan Du",
      "photoUrl": "https://lh3.googleusercontent.com/a-/AOh14GipHEixBZgsPSLSGZvxAQY-4_WHIQtSOOuNiVpoIQ=s64",
      "userId": "11878460270753441728"
     },
     "user_tz": 300
    },
    "id": "bm9P2Kt9ptcF"
   },
   "outputs": [
    {
     "name": "stdout",
     "output_type": "stream",
     "text": [
      "150000\n",
      "WARNING:tensorflow:AutoGraph could not transform <function preprocess_dataframe.<locals>.<lambda> at 0x339d1bf70> and will run it as-is.\n",
      "Please report this to the TensorFlow team. When filing the bug, set the verbosity to 10 (on Linux, `export AUTOGRAPH_VERBOSITY=10`) and attach the full output.\n",
      "Cause: module 'gast' has no attribute 'Index'\n",
      "To silence this warning, decorate the function with @tf.autograph.experimental.do_not_convert\n",
      "WARNING: AutoGraph could not transform <function preprocess_dataframe.<locals>.<lambda> at 0x339d1bf70> and will run it as-is.\n",
      "Please report this to the TensorFlow team. When filing the bug, set the verbosity to 10 (on Linux, `export AUTOGRAPH_VERBOSITY=10`) and attach the full output.\n",
      "Cause: module 'gast' has no attribute 'Index'\n",
      "To silence this warning, decorate the function with @tf.autograph.experimental.do_not_convert\n"
     ]
    }
   ],
   "source": [
    "data = pd.read_csv('/Users/ryandu_1/Desktop/MachineLearning/Stocks/Bitcoin.csv')\n",
    "data = data.dropna(thresh=(8))\n",
    "data = data[-160000:-10000]\n",
    "print(len(data))\n",
    "data.head()\n",
    "x_train,y_train=preprocess_dataframe(data,date_column=\"Timestamp\")"
   ]
  },
  {
   "cell_type": "code",
   "execution_count": 33,
   "metadata": {
    "executionInfo": {
     "elapsed": 1947,
     "status": "ok",
     "timestamp": 1610825348206,
     "user": {
      "displayName": "Ryan Du",
      "photoUrl": "https://lh3.googleusercontent.com/a-/AOh14GipHEixBZgsPSLSGZvxAQY-4_WHIQtSOOuNiVpoIQ=s64",
      "userId": "11878460270753441728"
     },
     "user_tz": 300
    },
    "id": "lGYr2e27j9H0"
   },
   "outputs": [],
   "source": [
    "model = keras.models.Sequential([\n",
    "  keras.layers.LSTM(256,return_sequences=True),\n",
    "  keras.layers.LSTM(256,return_sequences=True),\n",
    "  keras.layers.Dropout(0.1),\n",
    "  keras.layers.LSTM(128,return_sequences=True),\n",
    "  keras.layers.LSTM(128,return_sequences=False),\n",
    "  keras.layers.Dropout(0.1),\n",
    "  keras.layers.Dense(64,activation=\"relu\"),\n",
    "  keras.layers.Dense(1)\n",
    "])\n",
    "model.compile(optimizer=\"adam\",loss='mse',metrics=['mae'])"
   ]
  },
  {
   "cell_type": "code",
   "execution_count": null,
   "metadata": {
    "colab": {
     "base_uri": "https://localhost:8080/",
     "height": 531
    },
    "executionInfo": {
     "elapsed": 25005,
     "status": "error",
     "timestamp": 1610825390644,
     "user": {
      "displayName": "Ryan Du",
      "photoUrl": "https://lh3.googleusercontent.com/a-/AOh14GipHEixBZgsPSLSGZvxAQY-4_WHIQtSOOuNiVpoIQ=s64",
      "userId": "11878460270753441728"
     },
     "user_tz": 300
    },
    "id": "fZqjCE-5nnQL",
    "outputId": "e1f664f9-1c61-4eb7-edf2-d2cb9fc55a43",
    "scrolled": true
   },
   "outputs": [
    {
     "name": "stdout",
     "output_type": "stream",
     "text": [
      "Epoch 1/100\n",
      "3336/4216 [======================>.......] - ETA: 4:51 - loss: 1.9532e-04 - mae: 0.0093"
     ]
    }
   ],
   "source": [
    "train(model=model,epochs=100,plot_every_=1)"
   ]
  },
  {
   "cell_type": "code",
   "execution_count": 56,
   "metadata": {
    "colab": {
     "base_uri": "https://localhost:8080/",
     "height": 296
    },
    "executionInfo": {
     "elapsed": 30956,
     "status": "ok",
     "timestamp": 1610825520832,
     "user": {
      "displayName": "Ryan Du",
      "photoUrl": "https://lh3.googleusercontent.com/a-/AOh14GipHEixBZgsPSLSGZvxAQY-4_WHIQtSOOuNiVpoIQ=s64",
      "userId": "11878460270753441728"
     },
     "user_tz": 300
    },
    "id": "hSx4L1PGuHNt",
    "outputId": "7f8eb929-8d49-47fe-a9cb-56c1f44fe0c2"
   },
   "outputs": [
    {
     "data": {
      "image/png": "[encoded data removed]",
      "text/plain": [
       "<Figure size 432x288 with 1 Axes>"
      ]
     },
     "metadata": {
      "needs_background": "light"
     },
     "output_type": "display_data"
    }
   ],
   "source": [
    "# plot_pred(yy, y_test)\n",
    "forecast_and_plot_train()"
   ]
  },
  {
   "cell_type": "code",
   "execution_count": 24,
   "metadata": {
    "colab": {
     "base_uri": "https://localhost:8080/",
     "height": 279
    },
    "executionInfo": {
     "elapsed": 2890,
     "status": "ok",
     "timestamp": 1610825574952,
     "user": {
      "displayName": "Ryan Du",
      "photoUrl": "https://lh3.googleusercontent.com/a-/AOh14GipHEixBZgsPSLSGZvxAQY-4_WHIQtSOOuNiVpoIQ=s64",
      "userId": "11878460270753441728"
     },
     "user_tz": 300
    },
    "id": "cYkhx8Jh1hHQ",
    "outputId": "c03df356-5e69-48b1-a502-ac1012005589"
   },
   "outputs": [
    {
     "data": {
      "image/png": "[encoded data removed]",
      "text/plain": [
       "<Figure size 432x288 with 1 Axes>"
      ]
     },
     "metadata": {
      "needs_background": "light"
     },
     "output_type": "display_data"
    }
   ],
   "source": [
    "yy = (model.predict(x)).reshape(-1)\n",
    "import matplotlib.pyplot as plt\n",
    "plt.plot(y.reshape(-1))\n",
    "plt.plot(yy)\n",
    "plt.ylabel('price')\n",
    "plt.xlabel('time')\n",
    "\n",
    "plt.show()"
   ]
  },
  {
   "cell_type": "code",
   "execution_count": 123,
   "metadata": {
    "id": "0eX-h8XbIJW-"
   },
   "outputs": [],
   "source": [
    "#model2.save(\"/content/drive/My Drive/SequentialForecastingTSLAModel2-1.h5\")"
   ]
  },
  {
   "cell_type": "code",
   "execution_count": null,
   "metadata": {},
   "outputs": [],
   "source": []
  }
 ],
 "metadata": {
  "colab": {
   "authorship_tag": "ABX9TyObNyFiEiBH0qdhionv06EH",
   "collapsed_sections": [],
   "name": "Stock Sequential Forecasting.ipynb",
   "provenance": []
  },
  "kernelspec": {
   "display_name": "Python 3",
   "language": "python",
   "name": "python3"
  },
  "language_info": {
   "codemirror_mode": {
    "name": "ipython",
    "version": 3
   },
   "file_extension": ".py",
   "mimetype": "text/x-python",
   "name": "python",
   "nbconvert_exporter": "python",
   "pygments_lexer": "ipython3",
   "version": "3.8.6"
  }
 },
 "nbformat": 4,
 "nbformat_minor": 1
}
