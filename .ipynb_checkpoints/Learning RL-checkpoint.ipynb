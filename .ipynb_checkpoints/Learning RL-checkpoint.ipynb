{
 "cells": [
  {
   "cell_type": "code",
   "execution_count": 1,
   "id": "statutory-rotation",
   "metadata": {},
   "outputs": [],
   "source": [
    "import gym\n",
    "from tensorflow import keras\n",
    "import tensorflow as tf\n",
    "import numpy as np\n",
    "import random"
   ]
  },
  {
   "cell_type": "code",
   "execution_count": 2,
   "id": "diagnostic-benchmark",
   "metadata": {},
   "outputs": [],
   "source": [
    "#initialize the cartpole env\n",
    "env = gym.make('CartPole-v0')\n",
    "#we get the number of observations (enviornment variables) and actions (actions we can make)\n",
    "states = env.observation_space.shape[0]\n",
    "actions = env.action_space.n"
   ]
  },
  {
   "cell_type": "markdown",
   "id": "adequate-ecuador",
   "metadata": {},
   "source": [
    "## Setting up Environment"
   ]
  },
  {
   "cell_type": "code",
   "execution_count": 14,
   "id": "sonic-runner",
   "metadata": {},
   "outputs": [
    {
     "name": "stdout",
     "output_type": "stream",
     "text": [
      "Episode:1 score:15.0\n",
      "Episode:2 score:23.0\n",
      "Episode:3 score:15.0\n",
      "Episode:4 score:11.0\n",
      "Episode:5 score:11.0\n",
      "Episode:6 score:32.0\n",
      "Episode:7 score:53.0\n",
      "Episode:8 score:14.0\n",
      "Episode:9 score:17.0\n",
      "Episode:10 score:16.0\n"
     ]
    }
   ],
   "source": [
    "#This will just play randomly for the number of episodes\n",
    "#how many games to play\n",
    "episodes = 10\n",
    "#running the episodes\n",
    "for episode in range(1, episodes+1):\n",
    "    #setting up everything by reseting the state, making done = false, and reseting the score\n",
    "    state = env.reset()\n",
    "    done = False\n",
    "    score = 0\n",
    "    \n",
    "    #while the game is not over, it will render, get a random action, \n",
    "    #take the random action, get the info from after that action, and \n",
    "    #stopping if needed, adding reward to the score, etc.\n",
    "    while not done:\n",
    "        #rendering doesnt work rn for some reason, check back later\n",
    "#         env.render()\n",
    "        action = random.choice([0,1])\n",
    "        n_state, reward, done, info = env.step(action)\n",
    "        score+=reward\n",
    "    print('Episode:{} score:{}'.format(episode,score))"
   ]
  },
  {
   "cell_type": "markdown",
   "id": "legitimate-railway",
   "metadata": {},
   "source": [
    "## Deep Learning"
   ]
  },
  {
   "cell_type": "code",
   "execution_count": null,
   "id": "terminal-lindsay",
   "metadata": {},
   "outputs": [],
   "source": [
    "#we are going to now create a NN for Reinforcment Learning\n",
    "def build_model(states, actions):\n",
    "    model = Sequential([\n",
    "        keras.layersFlatten(input_shapes=(1,states)),\n",
    "        kereas.layers.Dense(24, activation=\"relu\"),\n",
    "        kereas.layers.Dense(24, activation=\"relu\"),\n",
    "        kereas.layers.Dense(actions, activation=\"linear\")\n",
    "    ])\n",
    "    return model"
   ]
  }
 ],
 "metadata": {
  "kernelspec": {
   "display_name": "rosetta_tfenv",
   "language": "python",
   "name": "rosetta_tfenv"
  },
  "language_info": {
   "codemirror_mode": {
    "name": "ipython",
    "version": 3
   },
   "file_extension": ".py",
   "mimetype": "text/x-python",
   "name": "python",
   "nbconvert_exporter": "python",
   "pygments_lexer": "ipython3",
   "version": "3.8.2"
  }
 },
 "nbformat": 4,
 "nbformat_minor": 5
}
