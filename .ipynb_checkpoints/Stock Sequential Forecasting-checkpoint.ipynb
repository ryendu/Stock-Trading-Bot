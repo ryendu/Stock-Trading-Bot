{
 "cells": [
  {
   "cell_type": "code",
   "execution_count": 2,
   "metadata": {
    "colab": {
     "base_uri": "https://localhost:8080/"
    },
    "executionInfo": {
     "elapsed": 23894,
     "status": "ok",
     "timestamp": 1610825205123,
     "user": {
      "displayName": "Ryan Du",
      "photoUrl": "https://lh3.googleusercontent.com/a-/AOh14GipHEixBZgsPSLSGZvxAQY-4_WHIQtSOOuNiVpoIQ=s64",
      "userId": "11878460270753441728"
     },
     "user_tz": 300
    },
    "id": "O3LOHPnxGZ0W",
    "outputId": "8aca8eac-817a-4891-e4b8-dbd48d8eb773"
   },
   "outputs": [],
   "source": [
    "import tensorflow as tf\n",
    "import numpy as np\n",
    "from tensorflow import keras\n",
    "from matplotlib import pyplot as plt\n",
    "import pandas as pd"
   ]
  },
  {
   "cell_type": "code",
   "execution_count": 3,
   "metadata": {
    "executionInfo": {
     "elapsed": 937,
     "status": "ok",
     "timestamp": 1610825209003,
     "user": {
      "displayName": "Ryan Du",
      "photoUrl": "https://lh3.googleusercontent.com/a-/AOh14GipHEixBZgsPSLSGZvxAQY-4_WHIQtSOOuNiVpoIQ=s64",
      "userId": "11878460270753441728"
     },
     "user_tz": 300
    },
    "id": "bm9P2Kt9ptcF"
   },
   "outputs": [],
   "source": [
    "data = pd.read_csv(\"/Users/ryandu/Desktop/MachineLearning/Stocks/Data/Huge Stock Market  Dataset/Stocks/gogl.us.csv\")"
   ]
  },
  {
   "cell_type": "code",
   "execution_count": 4,
   "metadata": {
    "colab": {
     "base_uri": "https://localhost:8080/",
     "height": 204
    },
    "executionInfo": {
     "elapsed": 508,
     "status": "ok",
     "timestamp": 1610825209004,
     "user": {
      "displayName": "Ryan Du",
      "photoUrl": "https://lh3.googleusercontent.com/a-/AOh14GipHEixBZgsPSLSGZvxAQY-4_WHIQtSOOuNiVpoIQ=s64",
      "userId": "11878460270753441728"
     },
     "user_tz": 300
    },
    "id": "K5pv_8mGqUB1",
    "outputId": "e02512b9-722a-4bf2-98e1-0a017d6f0892"
   },
   "outputs": [
    {
     "data": {
      "text/html": [
       "<div>\n",
       "<style scoped>\n",
       "    .dataframe tbody tr th:only-of-type {\n",
       "        vertical-align: middle;\n",
       "    }\n",
       "\n",
       "    .dataframe tbody tr th {\n",
       "        vertical-align: top;\n",
       "    }\n",
       "\n",
       "    .dataframe thead th {\n",
       "        text-align: right;\n",
       "    }\n",
       "</style>\n",
       "<table border=\"1\" class=\"dataframe\">\n",
       "  <thead>\n",
       "    <tr style=\"text-align: right;\">\n",
       "      <th></th>\n",
       "      <th>Date</th>\n",
       "      <th>Open</th>\n",
       "      <th>High</th>\n",
       "      <th>Low</th>\n",
       "      <th>Close</th>\n",
       "      <th>Volume</th>\n",
       "      <th>OpenInt</th>\n",
       "    </tr>\n",
       "  </thead>\n",
       "  <tbody>\n",
       "    <tr>\n",
       "      <th>0</th>\n",
       "      <td>2005-02-25</td>\n",
       "      <td>141.94</td>\n",
       "      <td>143.84</td>\n",
       "      <td>141.20</td>\n",
       "      <td>143.18</td>\n",
       "      <td>89902</td>\n",
       "      <td>0</td>\n",
       "    </tr>\n",
       "    <tr>\n",
       "      <th>1</th>\n",
       "      <td>2005-02-28</td>\n",
       "      <td>143.70</td>\n",
       "      <td>147.19</td>\n",
       "      <td>139.47</td>\n",
       "      <td>143.14</td>\n",
       "      <td>124965</td>\n",
       "      <td>0</td>\n",
       "    </tr>\n",
       "    <tr>\n",
       "      <th>2</th>\n",
       "      <td>2005-03-01</td>\n",
       "      <td>141.79</td>\n",
       "      <td>142.57</td>\n",
       "      <td>131.36</td>\n",
       "      <td>134.50</td>\n",
       "      <td>229663</td>\n",
       "      <td>0</td>\n",
       "    </tr>\n",
       "    <tr>\n",
       "      <th>3</th>\n",
       "      <td>2005-03-02</td>\n",
       "      <td>135.27</td>\n",
       "      <td>139.11</td>\n",
       "      <td>135.06</td>\n",
       "      <td>137.56</td>\n",
       "      <td>88113</td>\n",
       "      <td>0</td>\n",
       "    </tr>\n",
       "    <tr>\n",
       "      <th>4</th>\n",
       "      <td>2005-03-03</td>\n",
       "      <td>138.59</td>\n",
       "      <td>138.59</td>\n",
       "      <td>132.24</td>\n",
       "      <td>134.89</td>\n",
       "      <td>120294</td>\n",
       "      <td>0</td>\n",
       "    </tr>\n",
       "  </tbody>\n",
       "</table>\n",
       "</div>"
      ],
      "text/plain": [
       "         Date    Open    High     Low   Close  Volume  OpenInt\n",
       "0  2005-02-25  141.94  143.84  141.20  143.18   89902        0\n",
       "1  2005-02-28  143.70  147.19  139.47  143.14  124965        0\n",
       "2  2005-03-01  141.79  142.57  131.36  134.50  229663        0\n",
       "3  2005-03-02  135.27  139.11  135.06  137.56   88113        0\n",
       "4  2005-03-03  138.59  138.59  132.24  134.89  120294        0"
      ]
     },
     "execution_count": 4,
     "metadata": {},
     "output_type": "execute_result"
    }
   ],
   "source": [
    "data.keys()\n",
    "data.head()"
   ]
  },
  {
   "cell_type": "code",
   "execution_count": 5,
   "metadata": {
    "executionInfo": {
     "elapsed": 447,
     "status": "ok",
     "timestamp": 1610825210303,
     "user": {
      "displayName": "Ryan Du",
      "photoUrl": "https://lh3.googleusercontent.com/a-/AOh14GipHEixBZgsPSLSGZvxAQY-4_WHIQtSOOuNiVpoIQ=s64",
      "userId": "11878460270753441728"
     },
     "user_tz": 300
    },
    "id": "_u-jp9nmqcaQ"
   },
   "outputs": [],
   "source": [
    "# to explicitly convert the date column to type DATETIME\n",
    "# In the CSV File, there must be a Column named Data which must contain the Date Information\n",
    "# THe user must speciy the Target column name also \n",
    "data['Date'] = pd.to_datetime(data['Date'])\n",
    "data = data.set_index('Date')\n",
    "# data.pop(\"Unnamed: 0\")\n",
    "data = data.pop('Close')\n",
    "data = np.array(data.to_numpy()).reshape(-1,1)"
   ]
  },
  {
   "cell_type": "code",
   "execution_count": 6,
   "metadata": {
    "executionInfo": {
     "elapsed": 2789,
     "status": "ok",
     "timestamp": 1610825214183,
     "user": {
      "displayName": "Ryan Du",
      "photoUrl": "https://lh3.googleusercontent.com/a-/AOh14GipHEixBZgsPSLSGZvxAQY-4_WHIQtSOOuNiVpoIQ=s64",
      "userId": "11878460270753441728"
     },
     "user_tz": 300
    },
    "id": "vakikcB7iTyr"
   },
   "outputs": [
    {
     "name": "stdout",
     "output_type": "stream",
     "text": [
      "WARNING:tensorflow:AutoGraph could not transform <function <lambda> at 0x1844e3af0> and will run it as-is.\n",
      "Please report this to the TensorFlow team. When filing the bug, set the verbosity to 10 (on Linux, `export AUTOGRAPH_VERBOSITY=10`) and attach the full output.\n",
      "Cause: module 'gast' has no attribute 'Index'\n",
      "To silence this warning, decorate the function with @tf.autograph.experimental.do_not_convert\n",
      "WARNING: AutoGraph could not transform <function <lambda> at 0x1844e3af0> and will run it as-is.\n",
      "Please report this to the TensorFlow team. When filing the bug, set the verbosity to 10 (on Linux, `export AUTOGRAPH_VERBOSITY=10`) and attach the full output.\n",
      "Cause: module 'gast' has no attribute 'Index'\n",
      "To silence this warning, decorate the function with @tf.autograph.experimental.do_not_convert\n"
     ]
    }
   ],
   "source": [
    "TARGET_INDEX=3\n",
    "from sklearn.preprocessing import MinMaxScaler\n",
    "sc = MinMaxScaler(feature_range=(0,1))\n",
    "data = sc.fit_transform(data)\n",
    "dataset = tf.data.Dataset.from_tensor_slices((data))\n",
    "dataset = dataset.window(100, shift=1,drop_remainder=True)\n",
    "dataset = dataset.flat_map(lambda window: window.batch(100))\n",
    "dataset = dataset.map(lambda window: (window[:-1], window[-1:]))\n",
    "x=[]\n",
    "y=[]\n",
    "for x_,y_ in dataset: \n",
    "    x.append(x_.numpy())\n",
    "    y.append(y_.numpy())#[0][TARGET_INDEX])"
   ]
  },
  {
   "cell_type": "code",
   "execution_count": 7,
   "metadata": {
    "executionInfo": {
     "elapsed": 1721,
     "status": "ok",
     "timestamp": 1610825214184,
     "user": {
      "displayName": "Ryan Du",
      "photoUrl": "https://lh3.googleusercontent.com/a-/AOh14GipHEixBZgsPSLSGZvxAQY-4_WHIQtSOOuNiVpoIQ=s64",
      "userId": "11878460270753441728"
     },
     "user_tz": 300
    },
    "id": "C74UvT5OjJ3C"
   },
   "outputs": [],
   "source": [
    "x = np.array(x)\n",
    "y = np.array(y).reshape(-1,)\n",
    "from sklearn.model_selection import train_test_split\n",
    "x_train,x_test, y_train,y_test = train_test_split(x,y,shuffle=False)"
   ]
  },
  {
   "cell_type": "code",
   "execution_count": 8,
   "metadata": {
    "colab": {
     "base_uri": "https://localhost:8080/"
    },
    "executionInfo": {
     "elapsed": 898,
     "status": "ok",
     "timestamp": 1610825214185,
     "user": {
      "displayName": "Ryan Du",
      "photoUrl": "https://lh3.googleusercontent.com/a-/AOh14GipHEixBZgsPSLSGZvxAQY-4_WHIQtSOOuNiVpoIQ=s64",
      "userId": "11878460270753441728"
     },
     "user_tz": 300
    },
    "id": "Gif-W1esjzEm",
    "outputId": "78765fff-1b97-4ce6-f671-f98b42980c1e"
   },
   "outputs": [
    {
     "name": "stdout",
     "output_type": "stream",
     "text": [
      "(3102, 99, 1)\n",
      "(3102,)\n"
     ]
    }
   ],
   "source": [
    "print(x.shape)\n",
    "print(y.shape)"
   ]
  },
  {
   "cell_type": "code",
   "execution_count": 9,
   "metadata": {
    "executionInfo": {
     "elapsed": 1947,
     "status": "ok",
     "timestamp": 1610825348206,
     "user": {
      "displayName": "Ryan Du",
      "photoUrl": "https://lh3.googleusercontent.com/a-/AOh14GipHEixBZgsPSLSGZvxAQY-4_WHIQtSOOuNiVpoIQ=s64",
      "userId": "11878460270753441728"
     },
     "user_tz": 300
    },
    "id": "lGYr2e27j9H0"
   },
   "outputs": [],
   "source": [
    "model = keras.models.Sequential([\n",
    "  keras.layers.LSTM(50,return_sequences=True),\n",
    "  keras.layers.Dropout(0.25),\n",
    "  keras.layers.LSTM(50,return_sequences=True),\n",
    "  keras.layers.Dropout(0.35),\n",
    "  keras.layers.LSTM(50,return_sequences=False),\n",
    "  keras.layers.Dropout(0.25),\n",
    "  keras.layers.Dense(50,activation=\"relu\"),\n",
    "  keras.layers.Dropout(0.3),\n",
    "  keras.layers.Dense(1)\n",
    "])\n",
    "model.compile(optimizer=\"adam\",loss='mse',metrics=['mae'])"
   ]
  },
  {
   "cell_type": "code",
   "execution_count": 10,
   "metadata": {
    "colab": {
     "base_uri": "https://localhost:8080/",
     "height": 531
    },
    "executionInfo": {
     "elapsed": 25005,
     "status": "error",
     "timestamp": 1610825390644,
     "user": {
      "displayName": "Ryan Du",
      "photoUrl": "https://lh3.googleusercontent.com/a-/AOh14GipHEixBZgsPSLSGZvxAQY-4_WHIQtSOOuNiVpoIQ=s64",
      "userId": "11878460270753441728"
     },
     "user_tz": 300
    },
    "id": "fZqjCE-5nnQL",
    "outputId": "e1f664f9-1c61-4eb7-edf2-d2cb9fc55a43",
    "scrolled": true
   },
   "outputs": [
    {
     "name": "stdout",
     "output_type": "stream",
     "text": [
      "Epoch 1/15\n",
      "66/66 [==============================] - 3s 38ms/step - loss: 0.0636 - mae: 0.1959 - val_loss: 0.0022 - val_mae: 0.0379\n",
      "Epoch 2/15\n",
      "66/66 [==============================] - 2s 33ms/step - loss: 0.0247 - mae: 0.1170 - val_loss: 0.0047 - val_mae: 0.0584\n",
      "Epoch 3/15\n",
      "66/66 [==============================] - 2s 32ms/step - loss: 0.0220 - mae: 0.1136 - val_loss: 0.0031 - val_mae: 0.0422\n",
      "Epoch 4/15\n",
      "66/66 [==============================] - 2s 34ms/step - loss: 0.0222 - mae: 0.1086 - val_loss: 0.0029 - val_mae: 0.0438\n",
      "Epoch 5/15\n",
      "66/66 [==============================] - 2s 33ms/step - loss: 0.0236 - mae: 0.1123 - val_loss: 0.0032 - val_mae: 0.0419\n",
      "Epoch 6/15\n",
      "66/66 [==============================] - 2s 33ms/step - loss: 0.0205 - mae: 0.1062 - val_loss: 0.0025 - val_mae: 0.0406\n",
      "Epoch 7/15\n",
      "53/66 [=======================>......] - ETA: 0s - loss: 0.0200 - mae: 0.1051"
     ]
    },
    {
     "ename": "KeyboardInterrupt",
     "evalue": "",
     "output_type": "error",
     "traceback": [
      "\u001b[0;31m---------------------------------------------------------------------------\u001b[0m",
      "\u001b[0;31mKeyboardInterrupt\u001b[0m                         Traceback (most recent call last)",
      "\u001b[0;32m<ipython-input-10-819a66276a58>\u001b[0m in \u001b[0;36m<module>\u001b[0;34m\u001b[0m\n\u001b[0;32m----> 1\u001b[0;31m \u001b[0mmodel\u001b[0m\u001b[0;34m.\u001b[0m\u001b[0mfit\u001b[0m\u001b[0;34m(\u001b[0m\u001b[0mx_train\u001b[0m\u001b[0;34m,\u001b[0m\u001b[0my_train\u001b[0m\u001b[0;34m,\u001b[0m\u001b[0mepochs\u001b[0m\u001b[0;34m=\u001b[0m\u001b[0;36m15\u001b[0m\u001b[0;34m,\u001b[0m\u001b[0mbatch_size\u001b[0m\u001b[0;34m=\u001b[0m\u001b[0;36m32\u001b[0m\u001b[0;34m,\u001b[0m \u001b[0mshuffle\u001b[0m\u001b[0;34m=\u001b[0m\u001b[0;32mTrue\u001b[0m\u001b[0;34m,\u001b[0m \u001b[0mvalidation_split\u001b[0m\u001b[0;34m=\u001b[0m\u001b[0;36m0.1\u001b[0m\u001b[0;34m)\u001b[0m\u001b[0;34m\u001b[0m\u001b[0;34m\u001b[0m\u001b[0m\n\u001b[0m",
      "\u001b[0;32m~/Desktop/MachineLearning/rosetta_tfenv/lib/python3.8/site-packages/tensorflow/python/keras/engine/training.py\u001b[0m in \u001b[0;36mfit\u001b[0;34m(self, x, y, batch_size, epochs, verbose, callbacks, validation_split, validation_data, shuffle, class_weight, sample_weight, initial_epoch, steps_per_epoch, validation_steps, validation_batch_size, validation_freq, max_queue_size, workers, use_multiprocessing)\u001b[0m\n\u001b[1;32m   1098\u001b[0m                 _r=1):\n\u001b[1;32m   1099\u001b[0m               \u001b[0mcallbacks\u001b[0m\u001b[0;34m.\u001b[0m\u001b[0mon_train_batch_begin\u001b[0m\u001b[0;34m(\u001b[0m\u001b[0mstep\u001b[0m\u001b[0;34m)\u001b[0m\u001b[0;34m\u001b[0m\u001b[0;34m\u001b[0m\u001b[0m\n\u001b[0;32m-> 1100\u001b[0;31m               \u001b[0mtmp_logs\u001b[0m \u001b[0;34m=\u001b[0m \u001b[0mself\u001b[0m\u001b[0;34m.\u001b[0m\u001b[0mtrain_function\u001b[0m\u001b[0;34m(\u001b[0m\u001b[0miterator\u001b[0m\u001b[0;34m)\u001b[0m\u001b[0;34m\u001b[0m\u001b[0;34m\u001b[0m\u001b[0m\n\u001b[0m\u001b[1;32m   1101\u001b[0m               \u001b[0;32mif\u001b[0m \u001b[0mdata_handler\u001b[0m\u001b[0;34m.\u001b[0m\u001b[0mshould_sync\u001b[0m\u001b[0;34m:\u001b[0m\u001b[0;34m\u001b[0m\u001b[0;34m\u001b[0m\u001b[0m\n\u001b[1;32m   1102\u001b[0m                 \u001b[0mcontext\u001b[0m\u001b[0;34m.\u001b[0m\u001b[0masync_wait\u001b[0m\u001b[0;34m(\u001b[0m\u001b[0;34m)\u001b[0m\u001b[0;34m\u001b[0m\u001b[0;34m\u001b[0m\u001b[0m\n",
      "\u001b[0;32m~/Desktop/MachineLearning/rosetta_tfenv/lib/python3.8/site-packages/tensorflow/python/eager/def_function.py\u001b[0m in \u001b[0;36m__call__\u001b[0;34m(self, *args, **kwds)\u001b[0m\n\u001b[1;32m    826\u001b[0m     \u001b[0mtracing_count\u001b[0m \u001b[0;34m=\u001b[0m \u001b[0mself\u001b[0m\u001b[0;34m.\u001b[0m\u001b[0mexperimental_get_tracing_count\u001b[0m\u001b[0;34m(\u001b[0m\u001b[0;34m)\u001b[0m\u001b[0;34m\u001b[0m\u001b[0;34m\u001b[0m\u001b[0m\n\u001b[1;32m    827\u001b[0m     \u001b[0;32mwith\u001b[0m \u001b[0mtrace\u001b[0m\u001b[0;34m.\u001b[0m\u001b[0mTrace\u001b[0m\u001b[0;34m(\u001b[0m\u001b[0mself\u001b[0m\u001b[0;34m.\u001b[0m\u001b[0m_name\u001b[0m\u001b[0;34m)\u001b[0m \u001b[0;32mas\u001b[0m \u001b[0mtm\u001b[0m\u001b[0;34m:\u001b[0m\u001b[0;34m\u001b[0m\u001b[0;34m\u001b[0m\u001b[0m\n\u001b[0;32m--> 828\u001b[0;31m       \u001b[0mresult\u001b[0m \u001b[0;34m=\u001b[0m \u001b[0mself\u001b[0m\u001b[0;34m.\u001b[0m\u001b[0m_call\u001b[0m\u001b[0;34m(\u001b[0m\u001b[0;34m*\u001b[0m\u001b[0margs\u001b[0m\u001b[0;34m,\u001b[0m \u001b[0;34m**\u001b[0m\u001b[0mkwds\u001b[0m\u001b[0;34m)\u001b[0m\u001b[0;34m\u001b[0m\u001b[0;34m\u001b[0m\u001b[0m\n\u001b[0m\u001b[1;32m    829\u001b[0m       \u001b[0mcompiler\u001b[0m \u001b[0;34m=\u001b[0m \u001b[0;34m\"xla\"\u001b[0m \u001b[0;32mif\u001b[0m \u001b[0mself\u001b[0m\u001b[0;34m.\u001b[0m\u001b[0m_experimental_compile\u001b[0m \u001b[0;32melse\u001b[0m \u001b[0;34m\"nonXla\"\u001b[0m\u001b[0;34m\u001b[0m\u001b[0;34m\u001b[0m\u001b[0m\n\u001b[1;32m    830\u001b[0m       \u001b[0mnew_tracing_count\u001b[0m \u001b[0;34m=\u001b[0m \u001b[0mself\u001b[0m\u001b[0;34m.\u001b[0m\u001b[0mexperimental_get_tracing_count\u001b[0m\u001b[0;34m(\u001b[0m\u001b[0;34m)\u001b[0m\u001b[0;34m\u001b[0m\u001b[0;34m\u001b[0m\u001b[0m\n",
      "\u001b[0;32m~/Desktop/MachineLearning/rosetta_tfenv/lib/python3.8/site-packages/tensorflow/python/eager/def_function.py\u001b[0m in \u001b[0;36m_call\u001b[0;34m(self, *args, **kwds)\u001b[0m\n\u001b[1;32m    853\u001b[0m       \u001b[0;31m# In this case we have created variables on the first call, so we run the\u001b[0m\u001b[0;34m\u001b[0m\u001b[0;34m\u001b[0m\u001b[0;34m\u001b[0m\u001b[0m\n\u001b[1;32m    854\u001b[0m       \u001b[0;31m# defunned version which is guaranteed to never create variables.\u001b[0m\u001b[0;34m\u001b[0m\u001b[0;34m\u001b[0m\u001b[0;34m\u001b[0m\u001b[0m\n\u001b[0;32m--> 855\u001b[0;31m       \u001b[0;32mreturn\u001b[0m \u001b[0mself\u001b[0m\u001b[0;34m.\u001b[0m\u001b[0m_stateless_fn\u001b[0m\u001b[0;34m(\u001b[0m\u001b[0;34m*\u001b[0m\u001b[0margs\u001b[0m\u001b[0;34m,\u001b[0m \u001b[0;34m**\u001b[0m\u001b[0mkwds\u001b[0m\u001b[0;34m)\u001b[0m  \u001b[0;31m# pylint: disable=not-callable\u001b[0m\u001b[0;34m\u001b[0m\u001b[0;34m\u001b[0m\u001b[0m\n\u001b[0m\u001b[1;32m    856\u001b[0m     \u001b[0;32melif\u001b[0m \u001b[0mself\u001b[0m\u001b[0;34m.\u001b[0m\u001b[0m_stateful_fn\u001b[0m \u001b[0;32mis\u001b[0m \u001b[0;32mnot\u001b[0m \u001b[0;32mNone\u001b[0m\u001b[0;34m:\u001b[0m\u001b[0;34m\u001b[0m\u001b[0;34m\u001b[0m\u001b[0m\n\u001b[1;32m    857\u001b[0m       \u001b[0;31m# Release the lock early so that multiple threads can perform the call\u001b[0m\u001b[0;34m\u001b[0m\u001b[0;34m\u001b[0m\u001b[0;34m\u001b[0m\u001b[0m\n",
      "\u001b[0;32m~/Desktop/MachineLearning/rosetta_tfenv/lib/python3.8/site-packages/tensorflow/python/eager/function.py\u001b[0m in \u001b[0;36m__call__\u001b[0;34m(self, *args, **kwargs)\u001b[0m\n\u001b[1;32m   2940\u001b[0m       (graph_function,\n\u001b[1;32m   2941\u001b[0m        filtered_flat_args) = self._maybe_define_function(args, kwargs)\n\u001b[0;32m-> 2942\u001b[0;31m     return graph_function._call_flat(\n\u001b[0m\u001b[1;32m   2943\u001b[0m         filtered_flat_args, captured_inputs=graph_function.captured_inputs)  # pylint: disable=protected-access\n\u001b[1;32m   2944\u001b[0m \u001b[0;34m\u001b[0m\u001b[0m\n",
      "\u001b[0;32m~/Desktop/MachineLearning/rosetta_tfenv/lib/python3.8/site-packages/tensorflow/python/eager/function.py\u001b[0m in \u001b[0;36m_call_flat\u001b[0;34m(self, args, captured_inputs, cancellation_manager)\u001b[0m\n\u001b[1;32m   1916\u001b[0m         and executing_eagerly):\n\u001b[1;32m   1917\u001b[0m       \u001b[0;31m# No tape is watching; skip to running the function.\u001b[0m\u001b[0;34m\u001b[0m\u001b[0;34m\u001b[0m\u001b[0;34m\u001b[0m\u001b[0m\n\u001b[0;32m-> 1918\u001b[0;31m       return self._build_call_outputs(self._inference_function.call(\n\u001b[0m\u001b[1;32m   1919\u001b[0m           ctx, args, cancellation_manager=cancellation_manager))\n\u001b[1;32m   1920\u001b[0m     forward_backward = self._select_forward_and_backward_functions(\n",
      "\u001b[0;32m~/Desktop/MachineLearning/rosetta_tfenv/lib/python3.8/site-packages/tensorflow/python/eager/function.py\u001b[0m in \u001b[0;36mcall\u001b[0;34m(self, ctx, args, cancellation_manager)\u001b[0m\n\u001b[1;32m    553\u001b[0m       \u001b[0;32mwith\u001b[0m \u001b[0m_InterpolateFunctionError\u001b[0m\u001b[0;34m(\u001b[0m\u001b[0mself\u001b[0m\u001b[0;34m)\u001b[0m\u001b[0;34m:\u001b[0m\u001b[0;34m\u001b[0m\u001b[0;34m\u001b[0m\u001b[0m\n\u001b[1;32m    554\u001b[0m         \u001b[0;32mif\u001b[0m \u001b[0mcancellation_manager\u001b[0m \u001b[0;32mis\u001b[0m \u001b[0;32mNone\u001b[0m\u001b[0;34m:\u001b[0m\u001b[0;34m\u001b[0m\u001b[0;34m\u001b[0m\u001b[0m\n\u001b[0;32m--> 555\u001b[0;31m           outputs = execute.execute(\n\u001b[0m\u001b[1;32m    556\u001b[0m               \u001b[0mstr\u001b[0m\u001b[0;34m(\u001b[0m\u001b[0mself\u001b[0m\u001b[0;34m.\u001b[0m\u001b[0msignature\u001b[0m\u001b[0;34m.\u001b[0m\u001b[0mname\u001b[0m\u001b[0;34m)\u001b[0m\u001b[0;34m,\u001b[0m\u001b[0;34m\u001b[0m\u001b[0;34m\u001b[0m\u001b[0m\n\u001b[1;32m    557\u001b[0m               \u001b[0mnum_outputs\u001b[0m\u001b[0;34m=\u001b[0m\u001b[0mself\u001b[0m\u001b[0;34m.\u001b[0m\u001b[0m_num_outputs\u001b[0m\u001b[0;34m,\u001b[0m\u001b[0;34m\u001b[0m\u001b[0;34m\u001b[0m\u001b[0m\n",
      "\u001b[0;32m~/Desktop/MachineLearning/rosetta_tfenv/lib/python3.8/site-packages/tensorflow/python/eager/execute.py\u001b[0m in \u001b[0;36mquick_execute\u001b[0;34m(op_name, num_outputs, inputs, attrs, ctx, name)\u001b[0m\n\u001b[1;32m     57\u001b[0m   \u001b[0;32mtry\u001b[0m\u001b[0;34m:\u001b[0m\u001b[0;34m\u001b[0m\u001b[0;34m\u001b[0m\u001b[0m\n\u001b[1;32m     58\u001b[0m     \u001b[0mctx\u001b[0m\u001b[0;34m.\u001b[0m\u001b[0mensure_initialized\u001b[0m\u001b[0;34m(\u001b[0m\u001b[0;34m)\u001b[0m\u001b[0;34m\u001b[0m\u001b[0;34m\u001b[0m\u001b[0m\n\u001b[0;32m---> 59\u001b[0;31m     tensors = pywrap_tfe.TFE_Py_Execute(ctx._handle, device_name, op_name,\n\u001b[0m\u001b[1;32m     60\u001b[0m                                         inputs, attrs, num_outputs)\n\u001b[1;32m     61\u001b[0m   \u001b[0;32mexcept\u001b[0m \u001b[0mcore\u001b[0m\u001b[0;34m.\u001b[0m\u001b[0m_NotOkStatusException\u001b[0m \u001b[0;32mas\u001b[0m \u001b[0me\u001b[0m\u001b[0;34m:\u001b[0m\u001b[0;34m\u001b[0m\u001b[0;34m\u001b[0m\u001b[0m\n",
      "\u001b[0;31mKeyboardInterrupt\u001b[0m: "
     ]
    }
   ],
   "source": [
    "model.fit(x_train,y_train,epochs=15,batch_size=32, shuffle=True, validation_split=0.1)"
   ]
  },
  {
   "cell_type": "code",
   "execution_count": 68,
   "metadata": {
    "executionInfo": {
     "elapsed": 391,
     "status": "ok",
     "timestamp": 1610825422178,
     "user": {
      "displayName": "Ryan Du",
      "photoUrl": "https://lh3.googleusercontent.com/a-/AOh14GipHEixBZgsPSLSGZvxAQY-4_WHIQtSOOuNiVpoIQ=s64",
      "userId": "11878460270753441728"
     },
     "user_tz": 300
    },
    "id": "yE_ZR0KX45_x"
   },
   "outputs": [],
   "source": [
    "def forecast(starting_79, leng,model):\n",
    "    yy = starting_79.reshape(-1)\n",
    "    print(yy.shape)\n",
    "    for i in range(leng):\n",
    "        tmp_pred = model.predict((np.array([yy[-99:]]).reshape(1,99,1)))\n",
    "        yy = np.append(yy,tmp_pred)\n",
    "    return yy[99:]\n",
    "\n",
    "def calculate_accuracy(real, predict):\n",
    "    real = np.array(real) + 1\n",
    "    predict = np.array(predict) + 1\n",
    "    percentage = 1 - np.sqrt(np.mean(np.square((real - predict) / real)))\n",
    "    return percentage * 100"
   ]
  },
  {
   "cell_type": "code",
   "execution_count": 180,
   "metadata": {
    "colab": {
     "base_uri": "https://localhost:8080/"
    },
    "executionInfo": {
     "elapsed": 308,
     "status": "ok",
     "timestamp": 1610825526624,
     "user": {
      "displayName": "Ryan Du",
      "photoUrl": "https://lh3.googleusercontent.com/a-/AOh14GipHEixBZgsPSLSGZvxAQY-4_WHIQtSOOuNiVpoIQ=s64",
      "userId": "11878460270753441728"
     },
     "user_tz": 300
    },
    "id": "pVAoV8x9raf8",
    "outputId": "f5a15e03-b6d5-4bec-e3f2-c2ea519067aa"
   },
   "outputs": [
    {
     "data": {
      "text/plain": [
       "94.09944430869288"
      ]
     },
     "execution_count": 180,
     "metadata": {},
     "output_type": "execute_result"
    }
   ],
   "source": [
    "calculate_accuracy(y,yy)"
   ]
  },
  {
   "cell_type": "code",
   "execution_count": 178,
   "metadata": {
    "colab": {
     "base_uri": "https://localhost:8080/",
     "height": 296
    },
    "executionInfo": {
     "elapsed": 30956,
     "status": "ok",
     "timestamp": 1610825520832,
     "user": {
      "displayName": "Ryan Du",
      "photoUrl": "https://lh3.googleusercontent.com/a-/AOh14GipHEixBZgsPSLSGZvxAQY-4_WHIQtSOOuNiVpoIQ=s64",
      "userId": "11878460270753441728"
     },
     "user_tz": 300
    },
    "id": "hSx4L1PGuHNt",
    "outputId": "7f8eb929-8d49-47fe-a9cb-56c1f44fe0c2"
   },
   "outputs": [
    {
     "name": "stdout",
     "output_type": "stream",
     "text": [
      "(99,)\n"
     ]
    },
    {
     "data": {
      "image/png": "[encoded data removed]",
      "text/plain": [
       "<Figure size 432x288 with 1 Axes>"
      ]
     },
     "metadata": {
      "needs_background": "light"
     },
     "output_type": "display_data"
    }
   ],
   "source": [
    "yy = forecast(x_test[0],len(y_test),model)\n",
    "import matplotlib.pyplot as plt\n",
    "plt.plot(y_test.reshape(-1))\n",
    "plt.plot(yy)\n",
    "plt.ylabel('price')\n",
    "plt.xlabel('time')\n",
    "plt.show()"
   ]
  },
  {
   "cell_type": "code",
   "execution_count": 179,
   "metadata": {
    "colab": {
     "base_uri": "https://localhost:8080/",
     "height": 279
    },
    "executionInfo": {
     "elapsed": 2890,
     "status": "ok",
     "timestamp": 1610825574952,
     "user": {
      "displayName": "Ryan Du",
      "photoUrl": "https://lh3.googleusercontent.com/a-/AOh14GipHEixBZgsPSLSGZvxAQY-4_WHIQtSOOuNiVpoIQ=s64",
      "userId": "11878460270753441728"
     },
     "user_tz": 300
    },
    "id": "cYkhx8Jh1hHQ",
    "outputId": "c03df356-5e69-48b1-a502-ac1012005589"
   },
   "outputs": [
    {
     "data": {
      "image/png": "[encoded data removed]",
      "text/plain": [
       "<Figure size 432x288 with 1 Axes>"
      ]
     },
     "metadata": {
      "needs_background": "light"
     },
     "output_type": "display_data"
    }
   ],
   "source": [
    "yy = (model.predict(x)).reshape(-1)\n",
    "import matplotlib.pyplot as plt\n",
    "plt.plot(y.reshape(-1))\n",
    "plt.plot(yy)\n",
    "plt.ylabel('price')\n",
    "plt.xlabel('time')\n",
    "\n",
    "plt.show()"
   ]
  },
  {
   "cell_type": "code",
   "execution_count": 123,
   "metadata": {
    "id": "0eX-h8XbIJW-"
   },
   "outputs": [],
   "source": [
    "#model2.save(\"/content/drive/My Drive/SequentialForecastingTSLAModel2-1.h5\")"
   ]
  },
  {
   "cell_type": "code",
   "execution_count": null,
   "metadata": {},
   "outputs": [],
   "source": []
  }
 ],
 "metadata": {
  "colab": {
   "authorship_tag": "ABX9TyObNyFiEiBH0qdhionv06EH",
   "collapsed_sections": [],
   "name": "Stock Sequential Forecasting.ipynb",
   "provenance": []
  },
  "kernelspec": {
   "display_name": "rosetta_tfenv",
   "language": "python",
   "name": "rosetta_tfenv"
  },
  "language_info": {
   "codemirror_mode": {
    "name": "ipython",
    "version": 3
   },
   "file_extension": ".py",
   "mimetype": "text/x-python",
   "name": "python",
   "nbconvert_exporter": "python",
   "pygments_lexer": "ipython3",
   "version": "3.8.2"
  }
 },
 "nbformat": 4,
 "nbformat_minor": 1
}
